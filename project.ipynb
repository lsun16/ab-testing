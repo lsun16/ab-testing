{
 "cells": [
  {
   "cell_type": "markdown",
   "metadata": {},
   "source": [
    "## Experiment Design"
   ]
  },
  {
   "cell_type": "markdown",
   "metadata": {},
   "source": [
    "### 1. Metric Choice"
   ]
  },
  {
   "cell_type": "markdown",
   "metadata": {},
   "source": [
    "**Invariant metric**\n",
    "> num of unique cookies to view course overview page <br> num of unqiue cookies to click \"start free trail\" button <br> ctr"
   ]
  },
  {
   "cell_type": "markdown",
   "metadata": {},
   "source": [
    "**Hypothesis**\n",
    "1. H0: no effect on the fraction of students who left free trail <br> H1: decrease \n",
    "2. H0: no effect on the fraction of students who pay and complete the course  <br> H1: have effect "
   ]
  },
  {
   "cell_type": "markdown",
   "metadata": {},
   "source": [
    "**Evaluation metrics**\n",
    "> **Gross conversion**: num user ids to complete checkout and enrolled in the free trail divided by num of unique cookies to click the start free trail button (for hypithesis num 1) <br>**Net Conversion**: num user ids to remain enrolled and make at least one payment divided by the num of unique cookies to click the start free trail button (for hypothesis num 2)<br> **Retention**: num user ids to remain enrolled divided by num of user ids to complete checkout. It's a good metric to look at and can expect for an increase as the num students finished checkout shoube be decreased. "
   ]
  },
  {
   "cell_type": "markdown",
   "metadata": {},
   "source": [
    "### 2. Measuring Variability"
   ]
  },
  {
   "cell_type": "code",
   "execution_count": 37,
   "metadata": {},
   "outputs": [],
   "source": [
    "d = {\"col_name\": [\"cookies\", \"click_cookies\", \"user_ids\", \"ctr\", \"gc\", \"rr\", \"nc\"], \n",
    "     \"baseline\": [40000, 3200, 660, 0.08, 0.20625, 0.53, 0.109313],\n",
    "     \"dmin\": [3000, 240, -50, 0.01, -0.01, 0.01, 0.0075]}"
   ]
  },
  {
   "cell_type": "code",
   "execution_count": 38,
   "metadata": {},
   "outputs": [
    {
     "data": {
      "text/html": [
       "<div>\n",
       "<style scoped>\n",
       "    .dataframe tbody tr th:only-of-type {\n",
       "        vertical-align: middle;\n",
       "    }\n",
       "\n",
       "    .dataframe tbody tr th {\n",
       "        vertical-align: top;\n",
       "    }\n",
       "\n",
       "    .dataframe thead th {\n",
       "        text-align: right;\n",
       "    }\n",
       "</style>\n",
       "<table border=\"1\" class=\"dataframe\">\n",
       "  <thead>\n",
       "    <tr style=\"text-align: right;\">\n",
       "      <th></th>\n",
       "      <th>baseline</th>\n",
       "      <th>dmin</th>\n",
       "    </tr>\n",
       "  </thead>\n",
       "  <tbody>\n",
       "    <tr>\n",
       "      <th>cookies</th>\n",
       "      <td>40000.000000</td>\n",
       "      <td>3000.0000</td>\n",
       "    </tr>\n",
       "    <tr>\n",
       "      <th>click_cookies</th>\n",
       "      <td>3200.000000</td>\n",
       "      <td>240.0000</td>\n",
       "    </tr>\n",
       "    <tr>\n",
       "      <th>user_ids</th>\n",
       "      <td>660.000000</td>\n",
       "      <td>-50.0000</td>\n",
       "    </tr>\n",
       "    <tr>\n",
       "      <th>ctr</th>\n",
       "      <td>0.080000</td>\n",
       "      <td>0.0100</td>\n",
       "    </tr>\n",
       "    <tr>\n",
       "      <th>gc</th>\n",
       "      <td>0.206250</td>\n",
       "      <td>-0.0100</td>\n",
       "    </tr>\n",
       "    <tr>\n",
       "      <th>rr</th>\n",
       "      <td>0.530000</td>\n",
       "      <td>0.0100</td>\n",
       "    </tr>\n",
       "    <tr>\n",
       "      <th>nc</th>\n",
       "      <td>0.109313</td>\n",
       "      <td>0.0075</td>\n",
       "    </tr>\n",
       "  </tbody>\n",
       "</table>\n",
       "</div>"
      ],
      "text/plain": [
       "                   baseline       dmin\n",
       "cookies        40000.000000  3000.0000\n",
       "click_cookies   3200.000000   240.0000\n",
       "user_ids         660.000000   -50.0000\n",
       "ctr                0.080000     0.0100\n",
       "gc                 0.206250    -0.0100\n",
       "rr                 0.530000     0.0100\n",
       "nc                 0.109313     0.0075"
      ]
     },
     "execution_count": 38,
     "metadata": {},
     "output_type": "execute_result"
    }
   ],
   "source": [
    "import pandas as pd\n",
    "b_df = pd.DataFrame(d, index = d['col_name']).drop(columns = \"col_name\")\n",
    "b_df"
   ]
  },
  {
   "cell_type": "markdown",
   "metadata": {},
   "source": [
    "The unit of analysis is the same as the unit of diversion for all three evaluation metrics, thus analytical sd is good enough "
   ]
  },
  {
   "cell_type": "code",
   "execution_count": 39,
   "metadata": {},
   "outputs": [],
   "source": [
    "import numpy as np\n",
    "b_df['adj_baseline'] = np.nan\n",
    "adj_factor = b_df.loc['cookies', 'baseline']/5000\n",
    "for i in ['cookies', 'click_cookies', 'user_ids']:\n",
    "    b_df.loc[i, 'adj_baseline'] = b_df.loc[i, 'baseline']/adj_factor"
   ]
  },
  {
   "cell_type": "markdown",
   "metadata": {},
   "source": [
    "<br> Given a 5000 sample size, we can assume distributions of the sample proportions (evaluation metrics) follow normal distributions"
   ]
  },
  {
   "cell_type": "code",
   "execution_count": 51,
   "metadata": {},
   "outputs": [
    {
     "data": {
      "text/html": [
       "<div>\n",
       "<style scoped>\n",
       "    .dataframe tbody tr th:only-of-type {\n",
       "        vertical-align: middle;\n",
       "    }\n",
       "\n",
       "    .dataframe tbody tr th {\n",
       "        vertical-align: top;\n",
       "    }\n",
       "\n",
       "    .dataframe thead th {\n",
       "        text-align: right;\n",
       "    }\n",
       "</style>\n",
       "<table border=\"1\" class=\"dataframe\">\n",
       "  <thead>\n",
       "    <tr style=\"text-align: right;\">\n",
       "      <th></th>\n",
       "      <th>baseline</th>\n",
       "      <th>dmin</th>\n",
       "      <th>adj_baseline</th>\n",
       "      <th>se</th>\n",
       "    </tr>\n",
       "  </thead>\n",
       "  <tbody>\n",
       "    <tr>\n",
       "      <th>cookies</th>\n",
       "      <td>40000.000000</td>\n",
       "      <td>3000.0000</td>\n",
       "      <td>5000.0</td>\n",
       "      <td>NaN</td>\n",
       "    </tr>\n",
       "    <tr>\n",
       "      <th>click_cookies</th>\n",
       "      <td>3200.000000</td>\n",
       "      <td>240.0000</td>\n",
       "      <td>400.0</td>\n",
       "      <td>NaN</td>\n",
       "    </tr>\n",
       "    <tr>\n",
       "      <th>user_ids</th>\n",
       "      <td>660.000000</td>\n",
       "      <td>-50.0000</td>\n",
       "      <td>82.5</td>\n",
       "      <td>NaN</td>\n",
       "    </tr>\n",
       "    <tr>\n",
       "      <th>ctr</th>\n",
       "      <td>0.080000</td>\n",
       "      <td>0.0100</td>\n",
       "      <td>NaN</td>\n",
       "      <td>NaN</td>\n",
       "    </tr>\n",
       "    <tr>\n",
       "      <th>gc</th>\n",
       "      <td>0.206250</td>\n",
       "      <td>-0.0100</td>\n",
       "      <td>NaN</td>\n",
       "      <td>0.020231</td>\n",
       "    </tr>\n",
       "    <tr>\n",
       "      <th>rr</th>\n",
       "      <td>0.530000</td>\n",
       "      <td>0.0100</td>\n",
       "      <td>NaN</td>\n",
       "      <td>0.054949</td>\n",
       "    </tr>\n",
       "    <tr>\n",
       "      <th>nc</th>\n",
       "      <td>0.109313</td>\n",
       "      <td>0.0075</td>\n",
       "      <td>NaN</td>\n",
       "      <td>0.015602</td>\n",
       "    </tr>\n",
       "  </tbody>\n",
       "</table>\n",
       "</div>"
      ],
      "text/plain": [
       "                   baseline       dmin  adj_baseline        se\n",
       "cookies        40000.000000  3000.0000        5000.0       NaN\n",
       "click_cookies   3200.000000   240.0000         400.0       NaN\n",
       "user_ids         660.000000   -50.0000          82.5       NaN\n",
       "ctr                0.080000     0.0100           NaN       NaN\n",
       "gc                 0.206250    -0.0100           NaN  0.020231\n",
       "rr                 0.530000     0.0100           NaN  0.054949\n",
       "nc                 0.109313     0.0075           NaN  0.015602"
      ]
     },
     "execution_count": 51,
     "metadata": {},
     "output_type": "execute_result"
    }
   ],
   "source": [
    "b_df['se'] = np.nan\n",
    "b_df.loc['gc', 'se'] = np.sqrt(b_df.loc['gc', 'baseline']*(1-b_df.loc['gc', 'baseline'])/400)\n",
    "b_df.loc['nc', 'se'] = np.sqrt(b_df.loc['nc', 'baseline']*(1-b_df.loc['nc', 'baseline'])/400)\n",
    "b_df.loc['rr', 'se'] = np.sqrt(b_df.loc['rr', 'baseline']*(1-b_df.loc['rr', 'baseline'])/82.5)\n",
    "b_df"
   ]
  },
  {
   "cell_type": "markdown",
   "metadata": {},
   "source": [
    "### 3. How many page views?"
   ]
  },
  {
   "cell_type": "markdown",
   "metadata": {},
   "source": [
    "use alpha = 0.05 and beta = 0.2 and online calculator https://www.evanmiller.org/ab-testing/sample-size.html"
   ]
  },
  {
   "cell_type": "code",
   "execution_count": 58,
   "metadata": {},
   "outputs": [
    {
     "data": {
      "text/html": [
       "<div>\n",
       "<style scoped>\n",
       "    .dataframe tbody tr th:only-of-type {\n",
       "        vertical-align: middle;\n",
       "    }\n",
       "\n",
       "    .dataframe tbody tr th {\n",
       "        vertical-align: top;\n",
       "    }\n",
       "\n",
       "    .dataframe thead th {\n",
       "        text-align: right;\n",
       "    }\n",
       "</style>\n",
       "<table border=\"1\" class=\"dataframe\">\n",
       "  <thead>\n",
       "    <tr style=\"text-align: right;\">\n",
       "      <th></th>\n",
       "      <th>baseline</th>\n",
       "      <th>dmin</th>\n",
       "      <th>adj_baseline</th>\n",
       "      <th>se</th>\n",
       "      <th>sample_size</th>\n",
       "    </tr>\n",
       "  </thead>\n",
       "  <tbody>\n",
       "    <tr>\n",
       "      <th>cookies</th>\n",
       "      <td>40000.000000</td>\n",
       "      <td>3000.0000</td>\n",
       "      <td>5000.0</td>\n",
       "      <td>NaN</td>\n",
       "      <td>NaN</td>\n",
       "    </tr>\n",
       "    <tr>\n",
       "      <th>click_cookies</th>\n",
       "      <td>3200.000000</td>\n",
       "      <td>240.0000</td>\n",
       "      <td>400.0</td>\n",
       "      <td>NaN</td>\n",
       "      <td>NaN</td>\n",
       "    </tr>\n",
       "    <tr>\n",
       "      <th>user_ids</th>\n",
       "      <td>660.000000</td>\n",
       "      <td>-50.0000</td>\n",
       "      <td>82.5</td>\n",
       "      <td>NaN</td>\n",
       "      <td>NaN</td>\n",
       "    </tr>\n",
       "    <tr>\n",
       "      <th>ctr</th>\n",
       "      <td>0.080000</td>\n",
       "      <td>0.0100</td>\n",
       "      <td>NaN</td>\n",
       "      <td>NaN</td>\n",
       "      <td>NaN</td>\n",
       "    </tr>\n",
       "    <tr>\n",
       "      <th>gc</th>\n",
       "      <td>0.206250</td>\n",
       "      <td>-0.0100</td>\n",
       "      <td>NaN</td>\n",
       "      <td>0.020231</td>\n",
       "      <td>57076.0</td>\n",
       "    </tr>\n",
       "    <tr>\n",
       "      <th>rr</th>\n",
       "      <td>0.530000</td>\n",
       "      <td>0.0100</td>\n",
       "      <td>NaN</td>\n",
       "      <td>0.054949</td>\n",
       "      <td>78230.0</td>\n",
       "    </tr>\n",
       "    <tr>\n",
       "      <th>nc</th>\n",
       "      <td>0.109313</td>\n",
       "      <td>0.0075</td>\n",
       "      <td>NaN</td>\n",
       "      <td>0.015602</td>\n",
       "      <td>54822.0</td>\n",
       "    </tr>\n",
       "  </tbody>\n",
       "</table>\n",
       "</div>"
      ],
      "text/plain": [
       "                   baseline       dmin  adj_baseline        se  sample_size\n",
       "cookies        40000.000000  3000.0000        5000.0       NaN          NaN\n",
       "click_cookies   3200.000000   240.0000         400.0       NaN          NaN\n",
       "user_ids         660.000000   -50.0000          82.5       NaN          NaN\n",
       "ctr                0.080000     0.0100           NaN       NaN          NaN\n",
       "gc                 0.206250    -0.0100           NaN  0.020231      57076.0\n",
       "rr                 0.530000     0.0100           NaN  0.054949      78230.0\n",
       "nc                 0.109313     0.0075           NaN  0.015602      54822.0"
      ]
     },
     "execution_count": 58,
     "metadata": {},
     "output_type": "execute_result"
    }
   ],
   "source": [
    "b_df['sample_size'] = np.nan\n",
    "b_df.loc['gc', 'sample_size'] = 28538*2\n",
    "b_df.loc['rr', 'sample_size'] = 39115*2\n",
    "b_df.loc['nc', 'sample_size'] = 27411*2\n",
    "b_df"
   ]
  },
  {
   "cell_type": "code",
   "execution_count": 59,
   "metadata": {},
   "outputs": [
    {
     "data": {
      "text/html": [
       "<div>\n",
       "<style scoped>\n",
       "    .dataframe tbody tr th:only-of-type {\n",
       "        vertical-align: middle;\n",
       "    }\n",
       "\n",
       "    .dataframe tbody tr th {\n",
       "        vertical-align: top;\n",
       "    }\n",
       "\n",
       "    .dataframe thead th {\n",
       "        text-align: right;\n",
       "    }\n",
       "</style>\n",
       "<table border=\"1\" class=\"dataframe\">\n",
       "  <thead>\n",
       "    <tr style=\"text-align: right;\">\n",
       "      <th></th>\n",
       "      <th>baseline</th>\n",
       "      <th>dmin</th>\n",
       "      <th>adj_baseline</th>\n",
       "      <th>se</th>\n",
       "      <th>sample_size</th>\n",
       "      <th>page_views</th>\n",
       "    </tr>\n",
       "  </thead>\n",
       "  <tbody>\n",
       "    <tr>\n",
       "      <th>cookies</th>\n",
       "      <td>40000.000000</td>\n",
       "      <td>3000.0000</td>\n",
       "      <td>5000.0</td>\n",
       "      <td>NaN</td>\n",
       "      <td>NaN</td>\n",
       "      <td>NaN</td>\n",
       "    </tr>\n",
       "    <tr>\n",
       "      <th>click_cookies</th>\n",
       "      <td>3200.000000</td>\n",
       "      <td>240.0000</td>\n",
       "      <td>400.0</td>\n",
       "      <td>NaN</td>\n",
       "      <td>NaN</td>\n",
       "      <td>NaN</td>\n",
       "    </tr>\n",
       "    <tr>\n",
       "      <th>user_ids</th>\n",
       "      <td>660.000000</td>\n",
       "      <td>-50.0000</td>\n",
       "      <td>82.5</td>\n",
       "      <td>NaN</td>\n",
       "      <td>NaN</td>\n",
       "      <td>NaN</td>\n",
       "    </tr>\n",
       "    <tr>\n",
       "      <th>ctr</th>\n",
       "      <td>0.080000</td>\n",
       "      <td>0.0100</td>\n",
       "      <td>NaN</td>\n",
       "      <td>NaN</td>\n",
       "      <td>NaN</td>\n",
       "      <td>NaN</td>\n",
       "    </tr>\n",
       "    <tr>\n",
       "      <th>gc</th>\n",
       "      <td>0.206250</td>\n",
       "      <td>-0.0100</td>\n",
       "      <td>NaN</td>\n",
       "      <td>0.020231</td>\n",
       "      <td>57076.0</td>\n",
       "      <td>7.134500e+05</td>\n",
       "    </tr>\n",
       "    <tr>\n",
       "      <th>rr</th>\n",
       "      <td>0.530000</td>\n",
       "      <td>0.0100</td>\n",
       "      <td>NaN</td>\n",
       "      <td>0.054949</td>\n",
       "      <td>78230.0</td>\n",
       "      <td>4.741212e+06</td>\n",
       "    </tr>\n",
       "    <tr>\n",
       "      <th>nc</th>\n",
       "      <td>0.109313</td>\n",
       "      <td>0.0075</td>\n",
       "      <td>NaN</td>\n",
       "      <td>0.015602</td>\n",
       "      <td>54822.0</td>\n",
       "      <td>6.852750e+05</td>\n",
       "    </tr>\n",
       "  </tbody>\n",
       "</table>\n",
       "</div>"
      ],
      "text/plain": [
       "                   baseline       dmin  adj_baseline        se  sample_size  \\\n",
       "cookies        40000.000000  3000.0000        5000.0       NaN          NaN   \n",
       "click_cookies   3200.000000   240.0000         400.0       NaN          NaN   \n",
       "user_ids         660.000000   -50.0000          82.5       NaN          NaN   \n",
       "ctr                0.080000     0.0100           NaN       NaN          NaN   \n",
       "gc                 0.206250    -0.0100           NaN  0.020231      57076.0   \n",
       "rr                 0.530000     0.0100           NaN  0.054949      78230.0   \n",
       "nc                 0.109313     0.0075           NaN  0.015602      54822.0   \n",
       "\n",
       "                 page_views  \n",
       "cookies                 NaN  \n",
       "click_cookies           NaN  \n",
       "user_ids                NaN  \n",
       "ctr                     NaN  \n",
       "gc             7.134500e+05  \n",
       "rr             4.741212e+06  \n",
       "nc             6.852750e+05  "
      ]
     },
     "execution_count": 59,
     "metadata": {},
     "output_type": "execute_result"
    }
   ],
   "source": [
    "b_df['page_views'] = np.nan\n",
    "b_df.loc['gc', 'page_views'] = b_df.loc['gc', 'sample_size']*(5000/400)\n",
    "b_df.loc['rr', 'page_views'] = b_df.loc['rr', 'sample_size']*(5000/82.5)\n",
    "b_df.loc['nc', 'page_views'] = b_df.loc['nc', 'sample_size']*(5000/400)\n",
    "b_df"
   ]
  },
  {
   "cell_type": "markdown",
   "metadata": {},
   "source": [
    "With 100% Udacity traffic and evenly divert into experiment and control group, will need 118 days. This is unresonably long, thus will not consider the test for retention rate."
   ]
  },
  {
   "cell_type": "code",
   "execution_count": 61,
   "metadata": {},
   "outputs": [
    {
     "data": {
      "text/html": [
       "<div>\n",
       "<style scoped>\n",
       "    .dataframe tbody tr th:only-of-type {\n",
       "        vertical-align: middle;\n",
       "    }\n",
       "\n",
       "    .dataframe tbody tr th {\n",
       "        vertical-align: top;\n",
       "    }\n",
       "\n",
       "    .dataframe thead th {\n",
       "        text-align: right;\n",
       "    }\n",
       "</style>\n",
       "<table border=\"1\" class=\"dataframe\">\n",
       "  <thead>\n",
       "    <tr style=\"text-align: right;\">\n",
       "      <th></th>\n",
       "      <th>baseline</th>\n",
       "      <th>dmin</th>\n",
       "      <th>adj_baseline</th>\n",
       "      <th>se</th>\n",
       "      <th>sample_size</th>\n",
       "      <th>page_views</th>\n",
       "      <th>days</th>\n",
       "    </tr>\n",
       "  </thead>\n",
       "  <tbody>\n",
       "    <tr>\n",
       "      <th>cookies</th>\n",
       "      <td>40000.000000</td>\n",
       "      <td>3000.0000</td>\n",
       "      <td>5000.0</td>\n",
       "      <td>NaN</td>\n",
       "      <td>NaN</td>\n",
       "      <td>NaN</td>\n",
       "      <td>NaN</td>\n",
       "    </tr>\n",
       "    <tr>\n",
       "      <th>click_cookies</th>\n",
       "      <td>3200.000000</td>\n",
       "      <td>240.0000</td>\n",
       "      <td>400.0</td>\n",
       "      <td>NaN</td>\n",
       "      <td>NaN</td>\n",
       "      <td>NaN</td>\n",
       "      <td>NaN</td>\n",
       "    </tr>\n",
       "    <tr>\n",
       "      <th>user_ids</th>\n",
       "      <td>660.000000</td>\n",
       "      <td>-50.0000</td>\n",
       "      <td>82.5</td>\n",
       "      <td>NaN</td>\n",
       "      <td>NaN</td>\n",
       "      <td>NaN</td>\n",
       "      <td>NaN</td>\n",
       "    </tr>\n",
       "    <tr>\n",
       "      <th>ctr</th>\n",
       "      <td>0.080000</td>\n",
       "      <td>0.0100</td>\n",
       "      <td>NaN</td>\n",
       "      <td>NaN</td>\n",
       "      <td>NaN</td>\n",
       "      <td>NaN</td>\n",
       "      <td>NaN</td>\n",
       "    </tr>\n",
       "    <tr>\n",
       "      <th>gc</th>\n",
       "      <td>0.206250</td>\n",
       "      <td>-0.0100</td>\n",
       "      <td>NaN</td>\n",
       "      <td>0.020231</td>\n",
       "      <td>57076.0</td>\n",
       "      <td>7.134500e+05</td>\n",
       "      <td>17.836250</td>\n",
       "    </tr>\n",
       "    <tr>\n",
       "      <th>rr</th>\n",
       "      <td>0.530000</td>\n",
       "      <td>0.0100</td>\n",
       "      <td>NaN</td>\n",
       "      <td>0.054949</td>\n",
       "      <td>78230.0</td>\n",
       "      <td>4.741212e+06</td>\n",
       "      <td>118.530303</td>\n",
       "    </tr>\n",
       "    <tr>\n",
       "      <th>nc</th>\n",
       "      <td>0.109313</td>\n",
       "      <td>0.0075</td>\n",
       "      <td>NaN</td>\n",
       "      <td>0.015602</td>\n",
       "      <td>54822.0</td>\n",
       "      <td>6.852750e+05</td>\n",
       "      <td>17.131875</td>\n",
       "    </tr>\n",
       "  </tbody>\n",
       "</table>\n",
       "</div>"
      ],
      "text/plain": [
       "                   baseline       dmin  adj_baseline        se  sample_size  \\\n",
       "cookies        40000.000000  3000.0000        5000.0       NaN          NaN   \n",
       "click_cookies   3200.000000   240.0000         400.0       NaN          NaN   \n",
       "user_ids         660.000000   -50.0000          82.5       NaN          NaN   \n",
       "ctr                0.080000     0.0100           NaN       NaN          NaN   \n",
       "gc                 0.206250    -0.0100           NaN  0.020231      57076.0   \n",
       "rr                 0.530000     0.0100           NaN  0.054949      78230.0   \n",
       "nc                 0.109313     0.0075           NaN  0.015602      54822.0   \n",
       "\n",
       "                 page_views        days  \n",
       "cookies                 NaN         NaN  \n",
       "click_cookies           NaN         NaN  \n",
       "user_ids                NaN         NaN  \n",
       "ctr                     NaN         NaN  \n",
       "gc             7.134500e+05   17.836250  \n",
       "rr             4.741212e+06  118.530303  \n",
       "nc             6.852750e+05   17.131875  "
      ]
     },
     "execution_count": 61,
     "metadata": {},
     "output_type": "execute_result"
    }
   ],
   "source": [
    "b_df['days'] = b_df.page_views/40000\n",
    "b_df"
   ]
  },
  {
   "cell_type": "markdown",
   "metadata": {},
   "source": [
    "### 4. Analysis"
   ]
  },
  {
   "cell_type": "markdown",
   "metadata": {},
   "source": [
    "#### 4.1 Sanity Check"
   ]
  },
  {
   "cell_type": "code",
   "execution_count": 68,
   "metadata": {},
   "outputs": [],
   "source": [
    "con = pd.read_csv(\"../ab-testing/Final Project Results - Control.csv\") \n",
    "exp = pd.read_csv(\"../ab-testing/Final Project Results - Experiment.csv\") "
   ]
  },
  {
   "cell_type": "code",
   "execution_count": 104,
   "metadata": {},
   "outputs": [],
   "source": [
    "res = {\n",
    "    \"control\": pd.Series([con.Pageviews.sum(), con.Clicks.sum(), con.Enrollments.sum(), con.Payments.sum()], index = ['Pageviews', 'Clicks', 'Enrollments', 'Payments']),\n",
    "    \"exp\":pd.Series([exp.Pageviews.sum(), exp.Clicks.sum(), exp.Enrollments.sum(), exp.Payments.sum()], index = ['Pageviews', 'Clicks', 'Enrollments', 'Payments'])  \n",
    "}"
   ]
  },
  {
   "cell_type": "code",
   "execution_count": 123,
   "metadata": {
    "scrolled": true
   },
   "outputs": [
    {
     "data": {
      "text/html": [
       "<div>\n",
       "<style scoped>\n",
       "    .dataframe tbody tr th:only-of-type {\n",
       "        vertical-align: middle;\n",
       "    }\n",
       "\n",
       "    .dataframe tbody tr th {\n",
       "        vertical-align: top;\n",
       "    }\n",
       "\n",
       "    .dataframe thead th {\n",
       "        text-align: right;\n",
       "    }\n",
       "</style>\n",
       "<table border=\"1\" class=\"dataframe\">\n",
       "  <thead>\n",
       "    <tr style=\"text-align: right;\">\n",
       "      <th></th>\n",
       "      <th>control</th>\n",
       "      <th>exp</th>\n",
       "    </tr>\n",
       "  </thead>\n",
       "  <tbody>\n",
       "    <tr>\n",
       "      <th>Pageviews</th>\n",
       "      <td>345543.0</td>\n",
       "      <td>344660.0</td>\n",
       "    </tr>\n",
       "    <tr>\n",
       "      <th>Clicks</th>\n",
       "      <td>28378.0</td>\n",
       "      <td>28325.0</td>\n",
       "    </tr>\n",
       "    <tr>\n",
       "      <th>Enrollments</th>\n",
       "      <td>3785.0</td>\n",
       "      <td>3423.0</td>\n",
       "    </tr>\n",
       "    <tr>\n",
       "      <th>Payments</th>\n",
       "      <td>2033.0</td>\n",
       "      <td>1945.0</td>\n",
       "    </tr>\n",
       "  </tbody>\n",
       "</table>\n",
       "</div>"
      ],
      "text/plain": [
       "              control       exp\n",
       "Pageviews    345543.0  344660.0\n",
       "Clicks        28378.0   28325.0\n",
       "Enrollments    3785.0    3423.0\n",
       "Payments       2033.0    1945.0"
      ]
     },
     "execution_count": 123,
     "metadata": {},
     "output_type": "execute_result"
    }
   ],
   "source": [
    "res_df = pd.DataFrame(res)\n",
    "res_df"
   ]
  },
  {
   "cell_type": "code",
   "execution_count": 124,
   "metadata": {},
   "outputs": [],
   "source": [
    "res_df['diff'] = res_df.exp-res_df.control\n",
    "res_df['total'] = res_df.exp+res_df.control\n",
    "res_df['exp_ratio'] = res_df.exp/res_df.total"
   ]
  },
  {
   "cell_type": "code",
   "execution_count": 125,
   "metadata": {},
   "outputs": [
    {
     "data": {
      "text/html": [
       "<div>\n",
       "<style scoped>\n",
       "    .dataframe tbody tr th:only-of-type {\n",
       "        vertical-align: middle;\n",
       "    }\n",
       "\n",
       "    .dataframe tbody tr th {\n",
       "        vertical-align: top;\n",
       "    }\n",
       "\n",
       "    .dataframe thead th {\n",
       "        text-align: right;\n",
       "    }\n",
       "</style>\n",
       "<table border=\"1\" class=\"dataframe\">\n",
       "  <thead>\n",
       "    <tr style=\"text-align: right;\">\n",
       "      <th></th>\n",
       "      <th>control</th>\n",
       "      <th>exp</th>\n",
       "      <th>diff</th>\n",
       "      <th>total</th>\n",
       "      <th>exp_ratio</th>\n",
       "    </tr>\n",
       "  </thead>\n",
       "  <tbody>\n",
       "    <tr>\n",
       "      <th>Pageviews</th>\n",
       "      <td>345543.0</td>\n",
       "      <td>344660.0</td>\n",
       "      <td>-883.0</td>\n",
       "      <td>690203.0</td>\n",
       "      <td>0.499360</td>\n",
       "    </tr>\n",
       "    <tr>\n",
       "      <th>Clicks</th>\n",
       "      <td>28378.0</td>\n",
       "      <td>28325.0</td>\n",
       "      <td>-53.0</td>\n",
       "      <td>56703.0</td>\n",
       "      <td>0.499533</td>\n",
       "    </tr>\n",
       "    <tr>\n",
       "      <th>Enrollments</th>\n",
       "      <td>3785.0</td>\n",
       "      <td>3423.0</td>\n",
       "      <td>-362.0</td>\n",
       "      <td>7208.0</td>\n",
       "      <td>0.474889</td>\n",
       "    </tr>\n",
       "    <tr>\n",
       "      <th>Payments</th>\n",
       "      <td>2033.0</td>\n",
       "      <td>1945.0</td>\n",
       "      <td>-88.0</td>\n",
       "      <td>3978.0</td>\n",
       "      <td>0.488939</td>\n",
       "    </tr>\n",
       "  </tbody>\n",
       "</table>\n",
       "</div>"
      ],
      "text/plain": [
       "              control       exp   diff     total  exp_ratio\n",
       "Pageviews    345543.0  344660.0 -883.0  690203.0   0.499360\n",
       "Clicks        28378.0   28325.0  -53.0   56703.0   0.499533\n",
       "Enrollments    3785.0    3423.0 -362.0    7208.0   0.474889\n",
       "Payments       2033.0    1945.0  -88.0    3978.0   0.488939"
      ]
     },
     "execution_count": 125,
     "metadata": {},
     "output_type": "execute_result"
    }
   ],
   "source": [
    "res_df"
   ]
  },
  {
   "cell_type": "markdown",
   "metadata": {},
   "source": [
    "Focus on pageviews and clicks as invariant metrics, both have around 50% of cookies in either control or experiment group. To determine if happen by chance, the prob follows a binominal dist with 50% prob in either group. "
   ]
  },
  {
   "cell_type": "code",
   "execution_count": 141,
   "metadata": {},
   "outputs": [],
   "source": [
    "res_df['se'] = np.sqrt(0.5 * (1-0.5) / res_df.total)\n",
    "res_df['me'] = res_df.se * 1.96\n",
    "res_df['ci_lower'] = 0.5 - res_df.me\n",
    "res_df['ci_upper'] = 0.5 + res_df.me\n",
    "res_df['pass'] = res_df.apply(lambda x: x.exp_ratio>x.ci_lower and x.exp_ratio<x.ci_upper, axis = 1)"
   ]
  },
  {
   "cell_type": "code",
   "execution_count": 142,
   "metadata": {},
   "outputs": [
    {
     "data": {
      "text/html": [
       "<div>\n",
       "<style scoped>\n",
       "    .dataframe tbody tr th:only-of-type {\n",
       "        vertical-align: middle;\n",
       "    }\n",
       "\n",
       "    .dataframe tbody tr th {\n",
       "        vertical-align: top;\n",
       "    }\n",
       "\n",
       "    .dataframe thead th {\n",
       "        text-align: right;\n",
       "    }\n",
       "</style>\n",
       "<table border=\"1\" class=\"dataframe\">\n",
       "  <thead>\n",
       "    <tr style=\"text-align: right;\">\n",
       "      <th></th>\n",
       "      <th>control</th>\n",
       "      <th>exp</th>\n",
       "      <th>diff</th>\n",
       "      <th>total</th>\n",
       "      <th>exp_ratio</th>\n",
       "      <th>se</th>\n",
       "      <th>me</th>\n",
       "      <th>ci_lower</th>\n",
       "      <th>ci_upper</th>\n",
       "      <th>pass</th>\n",
       "    </tr>\n",
       "  </thead>\n",
       "  <tbody>\n",
       "    <tr>\n",
       "      <th>Pageviews</th>\n",
       "      <td>345543.0</td>\n",
       "      <td>344660.0</td>\n",
       "      <td>-883.0</td>\n",
       "      <td>690203.0</td>\n",
       "      <td>0.499360</td>\n",
       "      <td>0.000602</td>\n",
       "      <td>0.001180</td>\n",
       "      <td>0.498820</td>\n",
       "      <td>0.501180</td>\n",
       "      <td>True</td>\n",
       "    </tr>\n",
       "    <tr>\n",
       "      <th>Clicks</th>\n",
       "      <td>28378.0</td>\n",
       "      <td>28325.0</td>\n",
       "      <td>-53.0</td>\n",
       "      <td>56703.0</td>\n",
       "      <td>0.499533</td>\n",
       "      <td>0.002100</td>\n",
       "      <td>0.004116</td>\n",
       "      <td>0.495884</td>\n",
       "      <td>0.504116</td>\n",
       "      <td>True</td>\n",
       "    </tr>\n",
       "    <tr>\n",
       "      <th>Enrollments</th>\n",
       "      <td>3785.0</td>\n",
       "      <td>3423.0</td>\n",
       "      <td>-362.0</td>\n",
       "      <td>7208.0</td>\n",
       "      <td>0.474889</td>\n",
       "      <td>0.005889</td>\n",
       "      <td>0.011543</td>\n",
       "      <td>0.488457</td>\n",
       "      <td>0.511543</td>\n",
       "      <td>False</td>\n",
       "    </tr>\n",
       "    <tr>\n",
       "      <th>Payments</th>\n",
       "      <td>2033.0</td>\n",
       "      <td>1945.0</td>\n",
       "      <td>-88.0</td>\n",
       "      <td>3978.0</td>\n",
       "      <td>0.488939</td>\n",
       "      <td>0.007928</td>\n",
       "      <td>0.015538</td>\n",
       "      <td>0.484462</td>\n",
       "      <td>0.515538</td>\n",
       "      <td>True</td>\n",
       "    </tr>\n",
       "  </tbody>\n",
       "</table>\n",
       "</div>"
      ],
      "text/plain": [
       "              control       exp   diff     total  exp_ratio        se  \\\n",
       "Pageviews    345543.0  344660.0 -883.0  690203.0   0.499360  0.000602   \n",
       "Clicks        28378.0   28325.0  -53.0   56703.0   0.499533  0.002100   \n",
       "Enrollments    3785.0    3423.0 -362.0    7208.0   0.474889  0.005889   \n",
       "Payments       2033.0    1945.0  -88.0    3978.0   0.488939  0.007928   \n",
       "\n",
       "                   me  ci_lower  ci_upper   pass  \n",
       "Pageviews    0.001180  0.498820  0.501180   True  \n",
       "Clicks       0.004116  0.495884  0.504116   True  \n",
       "Enrollments  0.011543  0.488457  0.511543  False  \n",
       "Payments     0.015538  0.484462  0.515538   True  "
      ]
     },
     "execution_count": 142,
     "metadata": {},
     "output_type": "execute_result"
    }
   ],
   "source": [
    "res_df"
   ]
  },
  {
   "cell_type": "markdown",
   "metadata": {},
   "source": [
    "both pageviews and clicks pass the sanity check"
   ]
  },
  {
   "cell_type": "markdown",
   "metadata": {},
   "source": [
    "Look at CTR, comapring two sample prob"
   ]
  },
  {
   "cell_type": "code",
   "execution_count": 185,
   "metadata": {},
   "outputs": [],
   "source": [
    "ctr_con = res_df.loc['Clicks', 'control'] / res_df.loc['Pageviews', 'control']\n",
    "ctr_exp = res_df.loc['Clicks', 'exp'] / res_df.loc['Pageviews', 'exp']\n",
    "ctr_diff = ctr_exp - ctr_con"
   ]
  },
  {
   "cell_type": "code",
   "execution_count": 165,
   "metadata": {},
   "outputs": [],
   "source": [
    "ctr_pooled = (res_df.loc['Clicks', 'control']+res_df.loc['Clicks', 'exp']) / (res_df.loc['Pageviews', 'control'] + res_df.loc['Pageviews', 'exp'])"
   ]
  },
  {
   "cell_type": "code",
   "execution_count": 196,
   "metadata": {},
   "outputs": [
    {
     "name": "stdout",
     "output_type": "stream",
     "text": [
      "True\n"
     ]
    }
   ],
   "source": [
    "ctr_se_pooled = np.sqrt(ctr_pooled*(1-ctr_pooled)*((1/res_df.loc['Pageviews', 'control'])+(1/res_df.loc['Pageviews', 'exp'])))\n",
    "ctr_me = ctr_se_pooled *1.96\n",
    "ctr_ci_lower, ctr_ci_upper = -1*ctr_me, ctr_me\n",
    "if ctr_diff > ctr_ci_lower and ctr_diff < ctr_ci_upper:\n",
    "    print(True)\n",
    "else:\n",
    "    print(False)"
   ]
  },
  {
   "cell_type": "code",
   "execution_count": 201,
   "metadata": {},
   "outputs": [
    {
     "data": {
      "text/html": [
       "<div>\n",
       "<style scoped>\n",
       "    .dataframe tbody tr th:only-of-type {\n",
       "        vertical-align: middle;\n",
       "    }\n",
       "\n",
       "    .dataframe tbody tr th {\n",
       "        vertical-align: top;\n",
       "    }\n",
       "\n",
       "    .dataframe thead th {\n",
       "        text-align: right;\n",
       "    }\n",
       "</style>\n",
       "<table border=\"1\" class=\"dataframe\">\n",
       "  <thead>\n",
       "    <tr style=\"text-align: right;\">\n",
       "      <th></th>\n",
       "      <th>control</th>\n",
       "      <th>exp</th>\n",
       "      <th>diff</th>\n",
       "      <th>total</th>\n",
       "      <th>exp_ratio</th>\n",
       "      <th>se</th>\n",
       "      <th>me</th>\n",
       "      <th>ci_lower</th>\n",
       "      <th>ci_upper</th>\n",
       "      <th>pass</th>\n",
       "    </tr>\n",
       "  </thead>\n",
       "  <tbody>\n",
       "    <tr>\n",
       "      <th>Pageviews</th>\n",
       "      <td>345543.0</td>\n",
       "      <td>344660.0</td>\n",
       "      <td>-883.0</td>\n",
       "      <td>690203.0</td>\n",
       "      <td>0.499360</td>\n",
       "      <td>0.000602</td>\n",
       "      <td>0.001180</td>\n",
       "      <td>0.498820</td>\n",
       "      <td>0.501180</td>\n",
       "      <td>True</td>\n",
       "    </tr>\n",
       "    <tr>\n",
       "      <th>Clicks</th>\n",
       "      <td>28378.0</td>\n",
       "      <td>28325.0</td>\n",
       "      <td>-53.0</td>\n",
       "      <td>56703.0</td>\n",
       "      <td>0.499533</td>\n",
       "      <td>0.002100</td>\n",
       "      <td>0.004116</td>\n",
       "      <td>0.495884</td>\n",
       "      <td>0.504116</td>\n",
       "      <td>True</td>\n",
       "    </tr>\n",
       "    <tr>\n",
       "      <th>Enrollments</th>\n",
       "      <td>3785.0</td>\n",
       "      <td>3423.0</td>\n",
       "      <td>-362.0</td>\n",
       "      <td>7208.0</td>\n",
       "      <td>0.474889</td>\n",
       "      <td>0.005889</td>\n",
       "      <td>0.011543</td>\n",
       "      <td>0.488457</td>\n",
       "      <td>0.511543</td>\n",
       "      <td>False</td>\n",
       "    </tr>\n",
       "    <tr>\n",
       "      <th>Payments</th>\n",
       "      <td>2033.0</td>\n",
       "      <td>1945.0</td>\n",
       "      <td>-88.0</td>\n",
       "      <td>3978.0</td>\n",
       "      <td>0.488939</td>\n",
       "      <td>0.007928</td>\n",
       "      <td>0.015538</td>\n",
       "      <td>0.484462</td>\n",
       "      <td>0.515538</td>\n",
       "      <td>True</td>\n",
       "    </tr>\n",
       "  </tbody>\n",
       "</table>\n",
       "</div>"
      ],
      "text/plain": [
       "              control       exp   diff     total  exp_ratio        se  \\\n",
       "Pageviews    345543.0  344660.0 -883.0  690203.0   0.499360  0.000602   \n",
       "Clicks        28378.0   28325.0  -53.0   56703.0   0.499533  0.002100   \n",
       "Enrollments    3785.0    3423.0 -362.0    7208.0   0.474889  0.005889   \n",
       "Payments       2033.0    1945.0  -88.0    3978.0   0.488939  0.007928   \n",
       "\n",
       "                   me  ci_lower  ci_upper   pass  \n",
       "Pageviews    0.001180  0.498820  0.501180   True  \n",
       "Clicks       0.004116  0.495884  0.504116   True  \n",
       "Enrollments  0.011543  0.488457  0.511543  False  \n",
       "Payments     0.015538  0.484462  0.515538   True  "
      ]
     },
     "execution_count": 201,
     "metadata": {},
     "output_type": "execute_result"
    }
   ],
   "source": [
    "res_df"
   ]
  },
  {
   "cell_type": "markdown",
   "metadata": {},
   "source": [
    "Thus no significant change in CTR"
   ]
  },
  {
   "cell_type": "markdown",
   "metadata": {},
   "source": [
    "#### 4.2 Effective size test"
   ]
  },
  {
   "cell_type": "markdown",
   "metadata": {},
   "source": [
    "The last 14-days data need to be excluded as students haven't made an enrollment decision"
   ]
  },
  {
   "cell_type": "code",
   "execution_count": 217,
   "metadata": {},
   "outputs": [],
   "source": [
    "con_test = con.dropna()\n",
    "exp_test = exp.dropna()"
   ]
  },
  {
   "cell_type": "code",
   "execution_count": 238,
   "metadata": {},
   "outputs": [],
   "source": [
    "sig_test_df = pd.DataFrame(columns = [\"control\", \"exp\", \"diff\", \"dmin\", \"pooled_p\", \"pooled_se\", \"ci_lower\", \"ci_upper\", \"statistically_sig?\", \"practically_sig?\"], index = ['GC', 'NC'])"
   ]
  },
  {
   "cell_type": "code",
   "execution_count": 257,
   "metadata": {},
   "outputs": [],
   "source": [
    "for i, j in zip([\"GC\", \"NC\"],[\"Enrollments\", \"Payments\"]):\n",
    "    sig_test_df.loc[i, 'control'] = con_test[j].sum() / con_test['Clicks'].sum()\n",
    "    sig_test_df.loc[i, 'exp'] = exp_test[j].sum() / exp_test['Clicks'].sum()\n",
    "    sig_test_df.loc[i, 'diff'] = sig_test_df.loc[i, 'exp'] - sig_test_df.loc[i, 'control'] \n",
    "    sig_test_df.loc[\"GC\", 'dmin'] = 0.01 \n",
    "    sig_test_df.loc[\"NC\", 'dmin'] = 0.0075 \n",
    "    sig_test_df.loc[i, 'pooled_p'] =  (con_test[j].sum()+exp_test[j].sum()) / (con_test['Clicks'].sum() +exp_test['Clicks'].sum())\n",
    "    sig_test_df.loc[i, 'pooled_se'] = np.sqrt(sig_test_df.loc[i, 'pooled_p'] * (1-sig_test_df.loc[i, 'pooled_p']) * (1/con_test['Clicks'].sum() + 1/exp_test['Clicks'].sum())) \n",
    "    sig_test_df.loc[i, 'ci_lower'] = sig_test_df.loc[i, 'diff'] - sig_test_df.loc[i, 'pooled_se']*1.96\n",
    "    sig_test_df.loc[i, 'ci_upper'] = sig_test_df.loc[i, 'diff'] + sig_test_df.loc[i, 'pooled_se']*1.96\n",
    "    sig_test_df.loc[i, 'statistically_sig?'] = True if (0<sig_test_df.loc[i, 'ci_lower'] or 0 > sig_test_df.loc[i, 'ci_upper']) else False\n",
    "    sig_test_df.loc[i, 'practically_sig?'] = True if (sig_test_df.loc[i, 'dmin']<sig_test_df.loc[i, 'ci_lower'] or sig_test_df.loc[i, 'dmin'] > sig_test_df.loc[i, 'ci_upper']) else False\n",
    "\n",
    "sig_test_df.loc['NC', 'practically_sig?'] = False # as  diff is negative, should use dmin as -0.0075\n"
   ]
  },
  {
   "cell_type": "code",
   "execution_count": 258,
   "metadata": {},
   "outputs": [
    {
     "data": {
      "text/html": [
       "<div>\n",
       "<style scoped>\n",
       "    .dataframe tbody tr th:only-of-type {\n",
       "        vertical-align: middle;\n",
       "    }\n",
       "\n",
       "    .dataframe tbody tr th {\n",
       "        vertical-align: top;\n",
       "    }\n",
       "\n",
       "    .dataframe thead th {\n",
       "        text-align: right;\n",
       "    }\n",
       "</style>\n",
       "<table border=\"1\" class=\"dataframe\">\n",
       "  <thead>\n",
       "    <tr style=\"text-align: right;\">\n",
       "      <th></th>\n",
       "      <th>control</th>\n",
       "      <th>exp</th>\n",
       "      <th>diff</th>\n",
       "      <th>dmin</th>\n",
       "      <th>pooled_p</th>\n",
       "      <th>pooled_se</th>\n",
       "      <th>ci_lower</th>\n",
       "      <th>ci_upper</th>\n",
       "      <th>statistically_sig?</th>\n",
       "      <th>practically_sig?</th>\n",
       "    </tr>\n",
       "  </thead>\n",
       "  <tbody>\n",
       "    <tr>\n",
       "      <th>GC</th>\n",
       "      <td>0.218875</td>\n",
       "      <td>0.19832</td>\n",
       "      <td>-0.0205549</td>\n",
       "      <td>0.01</td>\n",
       "      <td>0.208607</td>\n",
       "      <td>0.00437168</td>\n",
       "      <td>-0.0291234</td>\n",
       "      <td>-0.0119864</td>\n",
       "      <td>True</td>\n",
       "      <td>True</td>\n",
       "    </tr>\n",
       "    <tr>\n",
       "      <th>NC</th>\n",
       "      <td>0.117562</td>\n",
       "      <td>0.112688</td>\n",
       "      <td>-0.00487372</td>\n",
       "      <td>0.0075</td>\n",
       "      <td>0.115127</td>\n",
       "      <td>0.00343413</td>\n",
       "      <td>-0.0116046</td>\n",
       "      <td>0.00185718</td>\n",
       "      <td>False</td>\n",
       "      <td>False</td>\n",
       "    </tr>\n",
       "  </tbody>\n",
       "</table>\n",
       "</div>"
      ],
      "text/plain": [
       "     control       exp        diff    dmin  pooled_p   pooled_se   ci_lower  \\\n",
       "GC  0.218875   0.19832  -0.0205549    0.01  0.208607  0.00437168 -0.0291234   \n",
       "NC  0.117562  0.112688 -0.00487372  0.0075  0.115127  0.00343413 -0.0116046   \n",
       "\n",
       "      ci_upper statistically_sig? practically_sig?  \n",
       "GC  -0.0119864               True             True  \n",
       "NC  0.00185718              False            False  "
      ]
     },
     "execution_count": 258,
     "metadata": {},
     "output_type": "execute_result"
    }
   ],
   "source": [
    "sig_test_df"
   ]
  },
  {
   "cell_type": "markdown",
   "metadata": {},
   "source": [
    "#### 4.3 Sign test"
   ]
  },
  {
   "cell_type": "code",
   "execution_count": null,
   "metadata": {},
   "outputs": [],
   "source": [
    "# for GC"
   ]
  },
  {
   "cell_type": "code",
   "execution_count": 282,
   "metadata": {},
   "outputs": [],
   "source": [
    "gc_con = con_test.set_index(\"Date\").loc[:, 'Enrollments'] / con_test.set_index(\"Date\").loc[:, 'Clicks']\n",
    "gc_exp = exp_test.set_index(\"Date\").loc[:, 'Enrollments'] / exp_test.set_index(\"Date\").loc[:, 'Clicks']\n",
    "gc_diff = gc_exp - gc_con\n",
    "gc_len = len(gc_exp)\n",
    "gc_negative_len = len(gc_diff[gc_diff < 0])\n",
    "gc_negative_p = gc_negative_len / gc_len"
   ]
  },
  {
   "cell_type": "code",
   "execution_count": 284,
   "metadata": {},
   "outputs": [],
   "source": [
    "from scipy.stats import binom_test "
   ]
  },
  {
   "cell_type": "code",
   "execution_count": 285,
   "metadata": {},
   "outputs": [],
   "source": [
    "p_value=binom_test(x=gc_negative_len, n=gc_len, p=0.5)"
   ]
  },
  {
   "cell_type": "code",
   "execution_count": 286,
   "metadata": {},
   "outputs": [
    {
     "data": {
      "text/plain": [
       "0.0025994777679443364"
      ]
     },
     "execution_count": 286,
     "metadata": {},
     "output_type": "execute_result"
    }
   ],
   "source": [
    "p_value"
   ]
  },
  {
   "cell_type": "markdown",
   "metadata": {},
   "source": [
    "As p-value less than 0.05, thus statistically significant"
   ]
  },
  {
   "cell_type": "code",
   "execution_count": 287,
   "metadata": {},
   "outputs": [],
   "source": [
    "# for NC\n",
    "nc_con = con_test.set_index(\"Date\").loc[:, 'Payments'] / con_test.set_index(\"Date\").loc[:, 'Clicks']\n",
    "nc_exp = exp_test.set_index(\"Date\").loc[:, 'Payments'] / exp_test.set_index(\"Date\").loc[:, 'Clicks']\n",
    "nc_diff = nc_exp - nc_con\n",
    "nc_len = len(nc_exp)\n",
    "nc_negative_len = len(nc_diff[nc_diff < 0])\n",
    "nc_negative_p = nc_negative_len / nc_len"
   ]
  },
  {
   "cell_type": "code",
   "execution_count": 288,
   "metadata": {},
   "outputs": [],
   "source": [
    "p_value=binom_test(x=nc_negative_len, n=nc_len, p=0.5)"
   ]
  },
  {
   "cell_type": "code",
   "execution_count": 289,
   "metadata": {},
   "outputs": [
    {
     "data": {
      "text/plain": [
       "0.6776394844055175"
      ]
     },
     "execution_count": 289,
     "metadata": {},
     "output_type": "execute_result"
    }
   ],
   "source": [
    "p_value"
   ]
  },
  {
   "cell_type": "markdown",
   "metadata": {},
   "source": [
    "### Recommendation: launch"
   ]
  },
  {
   "cell_type": "code",
   "execution_count": null,
   "metadata": {},
   "outputs": [],
   "source": []
  }
 ],
 "metadata": {
  "kernelspec": {
   "display_name": "Python 3",
   "language": "python",
   "name": "python3"
  },
  "language_info": {
   "codemirror_mode": {
    "name": "ipython",
    "version": 3
   },
   "file_extension": ".py",
   "mimetype": "text/x-python",
   "name": "python",
   "nbconvert_exporter": "python",
   "pygments_lexer": "ipython3",
   "version": "3.7.2"
  }
 },
 "nbformat": 4,
 "nbformat_minor": 2
}
